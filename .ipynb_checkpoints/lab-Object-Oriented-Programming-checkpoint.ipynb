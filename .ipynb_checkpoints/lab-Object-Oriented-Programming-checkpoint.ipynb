{
 "cells": [
  {
   "cell_type": "code",
   "execution_count": 165,
   "id": "08ea37e5",
   "metadata": {
    "scrolled": false
   },
   "outputs": [],
   "source": [
    "volume_list = [x/10 for x in range(0,1000,1)]\n",
    "\n",
    "class TV():\n",
    "    \n",
    "    def __init__(self,on,volume,active_channel,input,size):\n",
    "        self.on = on\n",
    "        self.volume = volume\n",
    "        self.active_channel=active_channel\n",
    "        self.input = input\n",
    "        self.size = size\n",
    "    \n",
    "    def switch_on(self):\n",
    "        if self.on == False: \n",
    "            self.on = True\n",
    "            print(\"Now the TV is switched on.\")\n",
    "        else: \n",
    "            print(\"The TV is already on.\")\n",
    "    def switch_on(self):\n",
    "        if self.on == True: \n",
    "            self.on = False\n",
    "            print(\"Now the TV is switched off.\")\n",
    "        else: \n",
    "            print(\"The TV is already off.\")\n",
    "    def set_volume(self,volume):\n",
    "        if volume not in volume_list:\n",
    "            print(\"Please change the volume within 0.0-100.0 with the smallest increment of 0.1!\")\n",
    "        else: \n",
    "            self.volume = volume\n",
    "            print(\"Now the volume is set to \"+str(volume))\n",
    "    def change_channel(self,active_channel):\n",
    "        if active_channel not in range(1,11):\n",
    "            print(\"Currently we only have 10 channels. Please choose a number within 1-10!\")\n",
    "        elif self.active_channel==active_channel:\n",
    "            print(\"This is the current channel. Please choose a number within 1-10!\")\n",
    "        else: \n",
    "            self.active_channel=active_channel\n",
    "            print(\"Now the channel is changed to \"+str(active_channel))    \n",
    "    def set_input(self,x):\n",
    "        if str(x) not in [\"Anthena\", \"HDMI1\", \"HDMI2\", \"HDMI3\"]:\n",
    "            print(\"Please choose the correct input. There are: 'Anthena','HDMI1', 'HDMI2', 'HDMI3'\")\n",
    "        elif self.input == str(x): \n",
    "            print(\"This is the current input. If you wish to switch input, please choose again.\")\n",
    "        else: \n",
    "            self.input = str(x)\n",
    "            print(\"The input is changed to\"+str(x))"
   ]
  },
  {
   "cell_type": "code",
   "execution_count": null,
   "id": "8f0d51f2",
   "metadata": {},
   "outputs": [],
   "source": []
  }
 ],
 "metadata": {
  "kernelspec": {
   "display_name": "Python 3 (ipykernel)",
   "language": "python",
   "name": "python3"
  },
  "language_info": {
   "codemirror_mode": {
    "name": "ipython",
    "version": 3
   },
   "file_extension": ".py",
   "mimetype": "text/x-python",
   "name": "python",
   "nbconvert_exporter": "python",
   "pygments_lexer": "ipython3",
   "version": "3.9.12"
  }
 },
 "nbformat": 4,
 "nbformat_minor": 5
}
